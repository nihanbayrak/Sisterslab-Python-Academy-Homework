{
 "cells": [
  {
   "cell_type": "code",
   "execution_count": 4,
   "metadata": {},
   "outputs": [
    {
     "name": "stdout",
     "output_type": "stream",
     "text": [
      "nested loops\n",
      "*\n",
      "**\n",
      "***\n",
      "****\n",
      "*****\n"
     ]
    }
   ],
   "source": [
    "print(\"nested loops\")\n",
    "number = 5\n",
    "for i in range(0,number): #vertical line\n",
    "  for j in range(0, i+1): #horizontal line\n",
    "   print(\"*\", end=\"\") #prints side by side\n",
    "  print(\"\") #for new line"
   ]
  },
  {
   "cell_type": "code",
   "execution_count": 6,
   "metadata": {},
   "outputs": [
    {
     "name": "stdout",
     "output_type": "stream",
     "text": [
      "\n",
      "*\n",
      "**\n",
      "***\n",
      "****\n",
      "*****\n"
     ]
    }
   ],
   "source": [
    "rowCount = 5\n",
    "for rowIndex in range(0, rowCount+1):\n",
    "  print(rowIndex * '*')\n"
   ]
  },
  {
   "cell_type": "code",
   "execution_count": 7,
   "metadata": {},
   "outputs": [
    {
     "name": "stdout",
     "output_type": "stream",
     "text": [
      "*****\n",
      "****\n",
      "***\n",
      "**\n",
      "*\n"
     ]
    }
   ],
   "source": [
    "rowCount = 5\n",
    "for rowIndex in range(rowCount,0,-1):\n",
    "  print(rowIndex * '*')"
   ]
  },
  {
   "cell_type": "code",
   "execution_count": 9,
   "metadata": {},
   "outputs": [
    {
     "name": "stdout",
     "output_type": "stream",
     "text": [
      "nested loops\n",
      "***** \n",
      "**** \n",
      "*** \n",
      "** \n",
      "* \n"
     ]
    }
   ],
   "source": [
    "print(\"nested loops\")\n",
    "for i in range(5):\n",
    "  for j in range(i,5): \n",
    "    print(\"*\", end=\"\")\n",
    "  print(\" \") "
   ]
  },
  {
   "cell_type": "code",
   "execution_count": 10,
   "metadata": {},
   "outputs": [
    {
     "name": "stdout",
     "output_type": "stream",
     "text": [
      "    *\n",
      "   **\n",
      "  ***\n",
      " ****\n",
      "*****\n"
     ]
    }
   ],
   "source": [
    "rowCount = 5\n",
    "for rowIndex in range(1,rowCount+1):\n",
    "  print((rowCount-rowIndex)* ' ' + rowIndex * '*')"
   ]
  },
  {
   "cell_type": "code",
   "execution_count": 12,
   "metadata": {},
   "outputs": [
    {
     "name": "stdout",
     "output_type": "stream",
     "text": [
      "nested loops\n",
      "     * \n",
      "    ** \n",
      "   *** \n",
      "  **** \n",
      " ***** \n"
     ]
    }
   ],
   "source": [
    "print(\"nested loops\")\n",
    "for i in range(5):\n",
    "  for j in range(i,5): \n",
    "    print(\"\", end=\" \")\n",
    "  for j in range(i+1): \n",
    "    print(\"*\", end=\"\")\n",
    "  print(\" \") "
   ]
  },
  {
   "cell_type": "code",
   "execution_count": 13,
   "metadata": {},
   "outputs": [
    {
     "name": "stdout",
     "output_type": "stream",
     "text": [
      " **** \n",
      "  *** \n",
      "   ** \n",
      "    * \n"
     ]
    }
   ],
   "source": [
    "for i in range(4):\n",
    "  for j in range(i+1): \n",
    "    print(\" \", end=\"\")\n",
    "  for j in range(i,4): \n",
    "    print(\"*\", end=\"\")\n",
    "  print(\" \") "
   ]
  },
  {
   "cell_type": "code",
   "execution_count": 15,
   "metadata": {},
   "outputs": [
    {
     "name": "stdout",
     "output_type": "stream",
     "text": [
      "\n",
      "solution with one for\n",
      "*****\n",
      " ****\n",
      "  ***\n",
      "   **\n",
      "    *\n"
     ]
    }
   ],
   "source": [
    "rows=5\n",
    "print(\"\\nsolution with one for\")\n",
    "for i in range(rows, 0, -1):\n",
    "  print(\" \"* (rows-i) + \"*\"*i)"
   ]
  },
  {
   "cell_type": "code",
   "execution_count": 16,
   "metadata": {},
   "outputs": [
    {
     "name": "stdout",
     "output_type": "stream",
     "text": [
      "    *  \n",
      "   * *  \n",
      "  * * *  \n",
      " * * * *  \n"
     ]
    }
   ],
   "source": [
    "for i in range(4):\n",
    "  for j in range(i,4): \n",
    "    print(\"\", end=\" \")\n",
    "  for j in range(i+1): \n",
    "    print(\"*\", end=\" \")\n",
    "  print(\" \") "
   ]
  },
  {
   "cell_type": "code",
   "execution_count": 17,
   "metadata": {},
   "outputs": [
    {
     "name": "stdout",
     "output_type": "stream",
     "text": [
      "    **\n",
      "   ****\n",
      "  ******\n",
      " ********\n",
      "**********\n"
     ]
    }
   ],
   "source": [
    "rowCount = 5\n",
    "for rowIndex in range(1,rowCount+1):\n",
    "  print((rowCount - rowIndex) * ' ' + (rowIndex*2) * '*')"
   ]
  },
  {
   "cell_type": "code",
   "execution_count": 18,
   "metadata": {},
   "outputs": [
    {
     "name": "stdout",
     "output_type": "stream",
     "text": [
      "*****\n",
      " ***\n",
      "  *\n",
      "   \n",
      "    \n"
     ]
    }
   ],
   "source": [
    "rowCount = 5\n",
    "for rowIndex in range(rowCount):\n",
    "  print((rowIndex)* ' ' + ((rowCount - rowIndex * 2)* '*'))"
   ]
  },
  {
   "cell_type": "code",
   "execution_count": 19,
   "metadata": {},
   "outputs": [
    {
     "name": "stdout",
     "output_type": "stream",
     "text": [
      " **********\n",
      "  ********\n",
      "   ******\n",
      "    ****\n",
      "     **\n"
     ]
    }
   ],
   "source": [
    "for i in range(10,0,-2):\n",
    "  print(\" \"* int((10-i)/2), \"*\"*i)"
   ]
  },
  {
   "cell_type": "code",
   "execution_count": 20,
   "metadata": {},
   "outputs": [
    {
     "name": "stdout",
     "output_type": "stream",
     "text": [
      "      **\n",
      "     ****\n",
      "    ******\n",
      "   ********\n",
      "  **********\n"
     ]
    }
   ],
   "source": [
    "for i in range(1,6):\n",
    "  print((6-i)*\" \", \"*\"*2*i)"
   ]
  },
  {
   "cell_type": "code",
   "execution_count": 21,
   "metadata": {},
   "outputs": [
    {
     "name": "stdout",
     "output_type": "stream",
     "text": [
      "          \n",
      "*        *\n",
      "**      **\n",
      "***    ***\n",
      "****  ****\n",
      "**********\n"
     ]
    }
   ],
   "source": [
    "rowCount = 5\n",
    "for rowIndex in range(rowCount+1):\n",
    "  print((rowIndex) * '*'+ ((rowCount-rowIndex)*2)*' ' + rowIndex * '*')"
   ]
  },
  {
   "cell_type": "code",
   "execution_count": 22,
   "metadata": {},
   "outputs": [
    {
     "name": "stdout",
     "output_type": "stream",
     "text": [
      "                    \n",
      "*                  *\n",
      "**                **\n",
      "***              ***\n",
      "****            ****\n",
      "*****          *****\n",
      "******        ******\n",
      "*******      *******\n",
      "********    ********\n",
      "*********  *********\n",
      "********************\n"
     ]
    }
   ],
   "source": [
    "rowCount = 10\n",
    "for rowIndex in range(rowCount+1):\n",
    "  print((rowIndex) * '*'+ ((rowCount-rowIndex)*2)*' ' + rowIndex * '*')"
   ]
  },
  {
   "cell_type": "code",
   "execution_count": 6,
   "metadata": {},
   "outputs": [
    {
     "name": "stdout",
     "output_type": "stream",
     "text": [
      "**********\n",
      "**      **\n",
      "* *    * *\n",
      "*  *  *  *\n",
      "*   **   *\n",
      "*   **   *\n",
      "*  *  *  *\n",
      "* *    * *\n",
      "**      **\n",
      "**********\n"
     ]
    }
   ],
   "source": [
    "getrows = int(input(\"Bir sayı giriniz: \") )\n",
    "getcolumn = getrows\n",
    "for i in range(getrows):\n",
    "    for j in range(getcolumn):\n",
    "        if i == 0 or i == getrows-1 or j == 0 or j == getcolumn-1 or i == j or j == (getrows - 1 - i):\n",
    "            print(\"*\", end=\"\")\n",
    "        else:\n",
    "            print(\" \", end=\"\")\n",
    "    print()"
   ]
  },
  {
   "cell_type": "code",
   "execution_count": 7,
   "metadata": {},
   "outputs": [
    {
     "name": "stdout",
     "output_type": "stream",
     "text": [
      "**********\n",
      "**      **\n",
      "* *    * *\n",
      "*  *  *  *\n",
      "*   **   *\n",
      "*   **   *\n",
      "*  *  *  *\n",
      "* *    * *\n",
      "**      **\n",
      "**********\n"
     ]
    }
   ],
   "source": [
    "rowCount = int(input())\n",
    "\n",
    "for rowIndex in range(rowCount):\n",
    "  if rowIndex == 0 or rowIndex == rowCount - 1:\n",
    "    print(rowCount * '*')\n",
    "  else:\n",
    "      if rowCount % 2 == 1:\n",
    "          if rowIndex < rowCount // 2:\n",
    "            print('*' + (rowIndex - 1) * ' '+ '*'+(rowCount - (rowIndex * 2) - 2) * ' '  + '*' + (rowIndex - 1) * ' ' + '*')\n",
    "          elif rowIndex == rowCount // 2:\n",
    "            print('*' + (rowCount - rowIndex - 2) * ' '+ '*'+ 2 * (rowIndex - (rowCount // 2)) * ' ' + (rowCount - rowIndex - 2) * ' ' + '*')\n",
    "          else:\n",
    "            print('*' + (rowCount - rowIndex - 2) * ' '+ '*'+ (2 * (rowIndex - (rowCount // 2)) - 1) * ' '  + '*' + (rowCount - rowIndex - 2) * ' ' + '*')\n",
    "      else:\n",
    "        if rowIndex < rowCount // 2:\n",
    "          print('*' + (rowIndex - 1) * ' '+ '*'+(rowCount - (rowIndex * 2) - 2) * ' '  + '*' + (rowIndex - 1) * ' ' + '*')\n",
    "        else:\n",
    "          print('*' + (rowCount - rowIndex - 2) * ' '+ '*'+ 2 * (rowIndex - (rowCount // 2)) * ' '  + '*' + (rowCount - rowIndex - 2) * ' ' + '*')"
   ]
  }
 ],
 "metadata": {
  "kernelspec": {
   "display_name": "Python 3.10.4 64-bit",
   "language": "python",
   "name": "python3"
  },
  "language_info": {
   "codemirror_mode": {
    "name": "ipython",
    "version": 3
   },
   "file_extension": ".py",
   "mimetype": "text/x-python",
   "name": "python",
   "nbconvert_exporter": "python",
   "pygments_lexer": "ipython3",
   "version": "3.10.4"
  },
  "orig_nbformat": 4,
  "vscode": {
   "interpreter": {
    "hash": "aee8b7b246df8f9039afb4144a1f6fd8d2ca17a180786b69acc140d282b71a49"
   }
  }
 },
 "nbformat": 4,
 "nbformat_minor": 2
}
