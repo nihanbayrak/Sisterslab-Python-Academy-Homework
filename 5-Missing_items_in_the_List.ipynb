{
 "cells": [
  {
   "cell_type": "code",
   "execution_count": 75,
   "metadata": {},
   "outputs": [
    {
     "name": "stdout",
     "output_type": "stream",
     "text": [
      "Number of missing items: 1\n",
      "Missing items: [100]\n"
     ]
    }
   ],
   "source": [
    "#1.yol\n",
    "import random\n",
    "\n",
    "my_list = [i for i in range(0, 101)]\n",
    "random.shuffle(my_list)\n",
    "new_list= [i for i in range(0,100)]\n",
    "\n",
    "missing = []\n",
    "for i in my_list:\n",
    "    if i not in new_list:\n",
    "        missing.append(i)\n",
    "\n",
    "print(\"Number of missing items: \" + str(len(missing) ))\n",
    "print( \"Missing items: \" + str(missing))\n",
    "\n",
    "\n",
    "\n",
    "\n",
    "\n"
   ]
  },
  {
   "cell_type": "code",
   "execution_count": 66,
   "metadata": {},
   "outputs": [
    {
     "name": "stdout",
     "output_type": "stream",
     "text": [
      "Missing items: {50, 51, 52, 53, 54, 55, 56, 57, 58, 59, 60, 61, 62, 63, 64, 65, 66, 67, 68, 69, 70, 71, 72, 73, 74, 75, 76, 77, 78, 79, 80, 81, 82, 83, 84, 85, 86, 87, 88, 89, 90, 91, 92, 93, 94, 95, 96, 97, 98, 99, 100}\n",
      "Numbers of missing items: 51\n"
     ]
    }
   ],
   "source": [
    "#2.yol\n",
    "import random\n",
    "my_list=[i for i in range(0, 101)]\n",
    "random.shuffle(my_list)\n",
    "part_list=[i for i in range(0,50)]\n",
    "\n",
    "set_a = set(my_list)\n",
    "set_b = set(part_list)\n",
    "missed_list = set_a.difference(set_b)\n",
    "print( \"Missing items: \" + (str(missed_list)+ \"\\nNumber of missing items: \" + str(len(missed_list))))"
   ]
  }
 ],
 "metadata": {
  "kernelspec": {
   "display_name": "Python 3.10.4 64-bit",
   "language": "python",
   "name": "python3"
  },
  "language_info": {
   "codemirror_mode": {
    "name": "ipython",
    "version": 3
   },
   "file_extension": ".py",
   "mimetype": "text/x-python",
   "name": "python",
   "nbconvert_exporter": "python",
   "pygments_lexer": "ipython3",
   "version": "3.10.4"
  },
  "orig_nbformat": 4,
  "vscode": {
   "interpreter": {
    "hash": "aee8b7b246df8f9039afb4144a1f6fd8d2ca17a180786b69acc140d282b71a49"
   }
  }
 },
 "nbformat": 4,
 "nbformat_minor": 2
}
